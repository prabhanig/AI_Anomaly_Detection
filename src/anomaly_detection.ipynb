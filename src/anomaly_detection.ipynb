{
  "nbformat": 4,
  "nbformat_minor": 0,
  "metadata": {
    "colab": {
      "provenance": []
    },
    "kernelspec": {
      "name": "python3",
      "display_name": "Python 3"
    },
    "language_info": {
      "name": "python"
    }
  },
  "cells": [
    {
      "cell_type": "code",
      "execution_count": null,
      "metadata": {
        "id": "j3si8teuWbw2"
      },
      "outputs": [],
      "source": [
        "{\n",
        " \"cells\": [\n",
        "  {\n",
        "   \"cell_type\": \"markdown\",\n",
        "   \"metadata\": {},\n",
        "   \"source\": [\n",
        "    \"# AI-Based Anomaly Detection in Industrial Equipment Sensors\",\n",
        "    \"This notebook demonstrates anomaly detection using machine learning models.\"\n",
        "   ]\n",
        "  },\n",
        "  {\n",
        "   \"cell_type\": \"code\",\n",
        "   \"execution_count\": null,\n",
        "   \"metadata\": {},\n",
        "   \"outputs\": [],\n",
        "   \"source\": [\n",
        "    \"import pandas as pd\\n\",\n",
        "    \"import numpy as np\\n\",\n",
        "    \"from sklearn.ensemble import IsolationForest\\n\",\n",
        "    \"df = pd.read_csv('../data/train_FD001.txt', delim_whitespace=True, header=None)\\n\",\n",
        "    \"iso_forest = IsolationForest(contamination=0.1, random_state=42)\\n\",\n",
        "    \"df['anomaly'] = iso_forest.fit_predict(df.iloc[:, 2:])\\n\",\n",
        "    \"df['anomaly'].value_counts()\"\n",
        "   ]\n",
        "  }\n",
        " ],\n",
        " \"metadata\": {},\n",
        " \"nbformat\": 4,\n",
        " \"nbformat_minor\": 4\n",
        "}\n",
        "\n"
      ]
    }
  ]
}